{
 "cells": [
  {
   "cell_type": "code",
   "execution_count": 1,
   "metadata": {},
   "outputs": [],
   "source": [
    "import pickle\n",
    "import matplotlib.pyplot as plt\n"
   ]
  },
  {
   "cell_type": "code",
   "execution_count": 5,
   "metadata": {
    "vscode": {
     "languageId": "shellscript"
    }
   },
   "outputs": [
    {
     "name": "stdout",
     "output_type": "stream",
     "text": [
      "The authenticity of host '192.168.17.36 (192.168.17.36)' can't be established.\n",
      "ED25519 key fingerprint is SHA256:dxEZ48fFPclE/HqA5f3VZ6Wd2JakQKm05BhptcfVcu8.\n",
      "This key is not known by any other names\n",
      "Are you sure you want to continue connecting (yes/no/[fingerprint])? "
     ]
    }
   ],
   "source": [
    "!scp lucaserf@192.168.17.36:/var/log/logging_data/* ./data_visualization/"
   ]
  },
  {
   "cell_type": "code",
   "execution_count": null,
   "metadata": {},
   "outputs": [],
   "source": [
    "with open(\"var/log//logging_data/metrics.pkl\", \"rb\") as f:\n",
    "    data = pickle.load(f)"
   ]
  },
  {
   "cell_type": "code",
   "execution_count": null,
   "metadata": {},
   "outputs": [],
   "source": [
    "\n",
    "\n",
    "for key in data.keys():\n",
    "    fig, ax = plt.subplots()\n",
    "\n",
    "    all_space_dim = [sum([11**i for i in range(n)]) for n in n_tokens]\n",
    "\n",
    "    ax.scatter(n_tokens, all_space_dim,label= \"space dimension\")\n",
    "\n",
    "    xy = [(n_tokens[i],y[0]) for i,j in enumerate(all_smiles_before_first) for y in j if len(y) > 0]\n",
    "    x, y = zip(*xy)\n",
    "\n",
    "    ax.scatter(x, y,label=\"reinforcement learning\")\n",
    "\n",
    "    ax.scatter(n_tokens, [x/2 for x in all_space_dim],label= \"random\")\n",
    "\n",
    "    plt.xticks(range(n_tokens[0]-1,n_tokens[-1]+1))\n",
    "    plt.xlabel('token length')\n",
    "    plt.ylabel('#smiles')\n",
    "    plt.title(\"space explored to find the best molecule agains full subspace\")\n",
    "    plt.legend(loc=\"upper left\")\n",
    "    fig.savefig(\"space_exploration_all\")"
   ]
  }
 ],
 "metadata": {
  "kernelspec": {
   "display_name": "Python 3",
   "language": "python",
   "name": "python3"
  },
  "language_info": {
   "codemirror_mode": {
    "name": "ipython",
    "version": 3
   },
   "file_extension": ".py",
   "mimetype": "text/x-python",
   "name": "python",
   "nbconvert_exporter": "python",
   "pygments_lexer": "ipython3",
   "version": "3.10.12"
  }
 },
 "nbformat": 4,
 "nbformat_minor": 2
}
